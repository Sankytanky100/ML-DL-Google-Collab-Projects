{
  "cells": [
    {
      "cell_type": "markdown",
      "metadata": {
        "id": "view-in-github",
        "colab_type": "text"
      },
      "source": [
        "<a href=\"https://colab.research.google.com/github/Sankytanky100/ML-DL-Google-Collab-Projects/blob/main/AI_Model_Monitoring_for_Healthcare_Applications_Using_Logging.ipynb\" target=\"_parent\"><img src=\"https://colab.research.google.com/assets/colab-badge.svg\" alt=\"Open In Colab\"/></a>"
      ]
    },
    {
      "cell_type": "markdown",
      "source": [
        "AI Model Monitoring for Healthcare Applications Using Logging"
      ],
      "metadata": {
        "id": "9YqH1GJ28YRB"
      }
    },
    {
      "cell_type": "markdown",
      "source": [
        "Introduction\n",
        "In healthcare, AI models are used for critical tasks like disease prediction, patient risk assessment, and diagnostics. Monitoring these models is essential to ensure their reliability, accuracy, and compliance with regulations.\n",
        "\n",
        "Logging is a powerful tool that helps in:\n",
        "\n",
        "Tracing model behavior over time.\n",
        "Debugging issues by recording anomalies.\n",
        "Auditing for compliance with healthcare regulations.\n"
      ],
      "metadata": {
        "id": "SeQiNMDC8fWH"
      }
    },
    {
      "cell_type": "code",
      "source": [
        "# Import necessary libraries\n",
        "import logging\n",
        "import numpy as np\n",
        "import pandas as pd\n",
        "import sys\n",
        "import datetime\n",
        "from sklearn.model_selection import train_test_split\n",
        "from sklearn.ensemble import RandomForestClassifier\n",
        "from sklearn.metrics import classification_report\n"
      ],
      "metadata": {
        "id": "3oSktV0p8ZSg"
      },
      "execution_count": null,
      "outputs": []
    },
    {
      "cell_type": "markdown",
      "source": [
        "Data Preparation"
      ],
      "metadata": {
        "id": "QMQ5dmWJ8n98"
      }
    },
    {
      "cell_type": "code",
      "source": [
        "# Simulate a healthcare dataset\n",
        "np.random.seed(42)\n",
        "\n",
        "# Features: Age, Blood Pressure, Cholesterol Levels, etc.\n",
        "data_size = 1000\n",
        "data = pd.DataFrame({\n",
        "    'age': np.random.randint(20, 80, data_size),\n",
        "    'blood_pressure': np.random.randint(80, 180, data_size),\n",
        "    'cholesterol': np.random.randint(150, 300, data_size),\n",
        "    'heart_rate': np.random.randint(60, 100, data_size),\n",
        "    'blood_sugar': np.random.randint(70, 150, data_size),\n",
        "})\n",
        "\n",
        "# Target variable: Disease Presence (1 for disease, 0 for no disease)\n",
        "data['disease'] = np.where(\n",
        "    (data['age'] > 50) &\n",
        "    (data['blood_pressure'] > 140) &\n",
        "    (data['cholesterol'] > 240), 1, 0\n",
        ")\n",
        "\n",
        "# Split the data\n",
        "X = data.drop('disease', axis=1)\n",
        "y = data['disease']\n",
        "X_train, X_test, y_train, y_test = train_test_split(X, y, test_size=0.2)\n"
      ],
      "metadata": {
        "id": "wj_p3cfv8kfu"
      },
      "execution_count": null,
      "outputs": []
    },
    {
      "cell_type": "markdown",
      "source": [
        "Model Building and Training"
      ],
      "metadata": {
        "id": "-TyIkuY28pZc"
      }
    },
    {
      "cell_type": "code",
      "source": [
        "# Initialize the model\n",
        "model = RandomForestClassifier(n_estimators=100, random_state=42)\n",
        "\n",
        "# Train the model\n",
        "model.fit(X_train, y_train)\n",
        "\n",
        "# Evaluate the model\n",
        "y_pred = model.predict(X_test)\n",
        "print(classification_report(y_test, y_pred))\n"
      ],
      "metadata": {
        "id": "wdqCPDRh8p7k",
        "outputId": "8de79282-2417-4c12-e766-3384990cbf0c",
        "colab": {
          "base_uri": "https://localhost:8080/"
        }
      },
      "execution_count": null,
      "outputs": [
        {
          "output_type": "stream",
          "name": "stdout",
          "text": [
            "              precision    recall  f1-score   support\n",
            "\n",
            "           0       1.00      1.00      1.00       185\n",
            "           1       1.00      1.00      1.00        15\n",
            "\n",
            "    accuracy                           1.00       200\n",
            "   macro avg       1.00      1.00      1.00       200\n",
            "weighted avg       1.00      1.00      1.00       200\n",
            "\n"
          ]
        }
      ]
    },
    {
      "cell_type": "markdown",
      "source": [
        "Implementing Logging"
      ],
      "metadata": {
        "id": "M2xfulKw8uYT"
      }
    },
    {
      "cell_type": "code",
      "source": [
        "# Configure logging\n",
        "logger = logging.getLogger('ModelMonitoringLogger')\n",
        "logger.setLevel(logging.INFO)\n",
        "\n",
        "# Create handlers\n",
        "stream_handler = logging.StreamHandler(sys.stdout)\n",
        "file_handler = logging.FileHandler('model_monitoring.log')\n",
        "\n",
        "# Create formatters and add them to handlers\n",
        "formatter = logging.Formatter('%(asctime)s - %(levelname)s - %(message)s')\n",
        "stream_handler.setFormatter(formatter)\n",
        "file_handler.setFormatter(formatter)\n",
        "\n",
        "# Add handlers to the logger\n",
        "logger.addHandler(stream_handler)\n",
        "logger.addHandler(file_handler)\n"
      ],
      "metadata": {
        "id": "KA2-peHz8vLk"
      },
      "execution_count": null,
      "outputs": []
    },
    {
      "cell_type": "markdown",
      "source": [
        "Making Predictions and Logging Outputs"
      ],
      "metadata": {
        "id": "2v8sfReK8zu9"
      }
    },
    {
      "cell_type": "code",
      "source": [
        "# Function to log predictions\n",
        "def log_predictions(model, X_input):\n",
        "    probabilities = model.predict_proba(X_input)\n",
        "    predictions = model.predict(X_input)\n",
        "    for i in range(len(predictions)):\n",
        "        confidence = max(probabilities[i])\n",
        "        logger.info(f\"Prediction: {predictions[i]}, Confidence: {confidence:.2f}\")\n",
        "\n",
        "        # Log unusual predictions (e.g., low confidence)\n",
        "        if confidence < 0.6:\n",
        "            logger.warning(f\"Low confidence prediction detected: {predictions[i]} with confidence {confidence:.2f}\")\n",
        "\n",
        "# Simulate new patient data\n",
        "new_patient_data = pd.DataFrame({\n",
        "    'age': [65],\n",
        "    'blood_pressure': [150],\n",
        "    'cholesterol': [260],\n",
        "    'heart_rate': [85],\n",
        "    'blood_sugar': [130],\n",
        "})\n",
        "\n",
        "# Log the prediction\n",
        "log_predictions(model, new_patient_data)\n"
      ],
      "metadata": {
        "id": "l5FamzbI8yNX",
        "outputId": "12fdb56f-0d09-4a57-bf7b-dfdc325ffcc5",
        "colab": {
          "base_uri": "https://localhost:8080/"
        }
      },
      "execution_count": null,
      "outputs": [
        {
          "output_type": "stream",
          "name": "stdout",
          "text": [
            "2024-11-24 16:16:25,809 - INFO - Prediction: 1, Confidence: 0.94\n"
          ]
        },
        {
          "output_type": "stream",
          "name": "stderr",
          "text": [
            "INFO:ModelMonitoringLogger:Prediction: 1, Confidence: 0.94\n"
          ]
        }
      ]
    },
    {
      "cell_type": "markdown",
      "source": [
        "Model Retraining and Version Tracking"
      ],
      "metadata": {
        "id": "_bRNBqSf82qX"
      }
    },
    {
      "cell_type": "code",
      "source": [
        "# Function to retrain the model and log the event\n",
        "def retrain_model(model, X_train, y_train, version):\n",
        "    model.fit(X_train, y_train)\n",
        "    logger.info(f\"Model retrained. New version: {version}\")\n",
        "\n",
        "# Simulate retraining the model\n",
        "new_version = '1.1.0'\n",
        "retrain_model(model, X_train, y_train, new_version)\n"
      ],
      "metadata": {
        "id": "ed40fuH-80sh",
        "outputId": "36df0b54-e67e-48a3-b814-3a06589b293a",
        "colab": {
          "base_uri": "https://localhost:8080/"
        }
      },
      "execution_count": null,
      "outputs": [
        {
          "output_type": "stream",
          "name": "stdout",
          "text": [
            "2024-11-24 16:16:26,020 - INFO - Model retrained. New version: 1.1.0\n"
          ]
        },
        {
          "output_type": "stream",
          "name": "stderr",
          "text": [
            "INFO:ModelMonitoringLogger:Model retrained. New version: 1.1.0\n"
          ]
        }
      ]
    },
    {
      "cell_type": "markdown",
      "source": [
        "Maintaining Audit Logs"
      ],
      "metadata": {
        "id": "obDmRKpx850B"
      }
    },
    {
      "cell_type": "code",
      "source": [
        "# Example of an audit log entry\n",
        "def audit_log(action, details):\n",
        "    timestamp = datetime.datetime.now().isoformat()\n",
        "    audit_entry = f\"{timestamp} - ACTION: {action} - DETAILS: {details}\"\n",
        "    # Append to audit log file\n",
        "    with open('audit.log', 'a') as f:\n",
        "        f.write(audit_entry + '\\n')\n",
        "    # Also log the audit entry\n",
        "    logger.info(f\"AUDIT LOG - {audit_entry}\")\n",
        "\n",
        "# Log an audit event\n",
        "audit_log(\"ModelRetrain\", f\"Model version updated to {new_version}\")\n"
      ],
      "metadata": {
        "id": "pjlxfM-j8329",
        "outputId": "113fe298-5844-49ee-bc5c-5f388cb5fe9c",
        "colab": {
          "base_uri": "https://localhost:8080/"
        }
      },
      "execution_count": null,
      "outputs": [
        {
          "output_type": "stream",
          "name": "stdout",
          "text": [
            "2024-11-24 16:16:26,037 - INFO - AUDIT LOG - 2024-11-24T16:16:26.035872 - ACTION: ModelRetrain - DETAILS: Model version updated to 1.1.0\n"
          ]
        },
        {
          "output_type": "stream",
          "name": "stderr",
          "text": [
            "INFO:ModelMonitoringLogger:AUDIT LOG - 2024-11-24T16:16:26.035872 - ACTION: ModelRetrain - DETAILS: Model version updated to 1.1.0\n"
          ]
        }
      ]
    },
    {
      "cell_type": "code",
      "source": [
        "# Display the model monitoring log\n",
        "with open('model_monitoring.log', 'r') as f:\n",
        "    logs = f.read()\n",
        "    print(logs)\n"
      ],
      "metadata": {
        "id": "McB31i9X8_k0",
        "outputId": "77f9b481-537d-42c7-b966-65da0f34ff46",
        "colab": {
          "base_uri": "https://localhost:8080/"
        }
      },
      "execution_count": null,
      "outputs": [
        {
          "output_type": "stream",
          "name": "stdout",
          "text": [
            "2024-11-24 16:16:25,809 - INFO - Prediction: 1, Confidence: 0.94\n",
            "2024-11-24 16:16:26,020 - INFO - Model retrained. New version: 1.1.0\n",
            "2024-11-24 16:16:26,037 - INFO - AUDIT LOG - 2024-11-24T16:16:26.035872 - ACTION: ModelRetrain - DETAILS: Model version updated to 1.1.0\n",
            "\n"
          ]
        }
      ]
    },
    {
      "cell_type": "code",
      "source": [
        "# Display the audit log\n",
        "with open('audit.log', 'r') as f:\n",
        "    audit_logs = f.read()\n",
        "    print(audit_logs)\n"
      ],
      "metadata": {
        "id": "Lb1WcIyH9BhW",
        "outputId": "44500ea5-d5dd-4336-c839-e4c54be0c52f",
        "colab": {
          "base_uri": "https://localhost:8080/"
        }
      },
      "execution_count": null,
      "outputs": [
        {
          "output_type": "stream",
          "name": "stdout",
          "text": [
            "2024-11-24T16:16:26.035872 - ACTION: ModelRetrain - DETAILS: Model version updated to 1.1.0\n",
            "\n"
          ]
        }
      ]
    }
  ],
  "metadata": {
    "colab": {
      "provenance": [],
      "gpuType": "T4",
      "include_colab_link": true
    },
    "kernelspec": {
      "display_name": "Python 3",
      "name": "python3"
    },
    "accelerator": "GPU"
  },
  "nbformat": 4,
  "nbformat_minor": 0
}